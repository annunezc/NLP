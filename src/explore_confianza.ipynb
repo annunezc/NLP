{
 "cells": [
  {
   "cell_type": "markdown",
   "metadata": {},
   "source": [
    "# 🔍 Exploración y Entrenamiento Inicial del Modelo ESI\n",
    "Este notebook carga el dataset sintético de triage ESI, lo explora, y entrena un modelo Random Forest para predecir el nivel de triage."
   ]
  },
  {
   "cell_type": "code",
   "execution_count": null,
   "metadata": {},
   "outputs": [],
   "source": [
    "import pandas as pd\n",
    "import matplotlib.pyplot as plt\n",
    "import seaborn as sns\n",
    "from sklearn.model_selection import train_test_split\n",
    "from sklearn.ensemble import RandomForestClassifier\n",
    "from sklearn.metrics import classification_report\n",
    "from sklearn.preprocessing import LabelEncoder\n",
    "import joblib\n",
    "\n",
    "# Cargar el dataset\n",
    "df = pd.read_csv('../data/raw/dataset_triage_ESI_500.csv')\n",
    "\n",
    "# Ver estructura general\n",
    "print(df.info())\n",
    "df.head()"
   ]
  },
  {
   "cell_type": "code",
   "execution_count": null,
   "metadata": {},
   "outputs": [],
   "source": [
    "# Distribución de clases\n",
    "sns.countplot(data=df, x='ESI')\n",
    "plt.title('Distribución de clases ESI')\n",
    "plt.show()"
   ]
  },
  {
   "cell_type": "code",
   "execution_count": null,
   "metadata": {},
   "outputs": [],
   "source": [
    "# Codificación de variables categóricas\n",
    "df['Riesgo Vital'] = df['Riesgo Vital'].map({'Sí': 1, 'No': 0})\n",
    "df['Intervención Urgente'] = df['Intervención Urgente'].map({'Sí': 1, 'No': 0})\n",
    "le = LabelEncoder()\n",
    "df['Motivo'] = le.fit_transform(df['Motivo'])"
   ]
  },
  {
   "cell_type": "code",
   "execution_count": null,
   "metadata": {},
   "outputs": [],
   "source": [
    "# División de datos\n",
    "X = df.drop(columns='ESI')\n",
    "y = df['ESI']\n",
    "X_train, X_test, y_train, y_test = train_test_split(X, y, test_size=0.2, random_state=42)"
   ]
  },
  {
   "cell_type": "code",
   "execution_count": null,
   "metadata": {},
   "outputs": [],
   "source": [
    "# Entrenamiento del modelo\n",
    "model = RandomForestClassifier(n_estimators=100, random_state=42)\n",
    "model.fit(X_train, y_train)\n",
    "y_pred = model.predict(X_test)\n",
    "print(classification_report(y_test, y_pred))"
   ]
  },
  {
   "cell_type": "code",
   "execution_count": null,
   "metadata": {},
   "outputs": [],
   "source": [
    "# Guardar modelo entrenado\n",
    "joblib.dump(model, '../models/modelo_triage.pkl')"
   ]
  },
  {
   "cell_type": "code",
   "execution_count": null,
   "id": "176e9a4c",
   "metadata": {},
   "outputs": [],
   "source": [
    "\n",
    "# Mostrar predicciones con confianza usando nombres de columnas\n",
    "for i in range(5):\n",
    "    input_data = X_test.iloc[[i]]  # mantiene nombres de columnas\n",
    "    clase_predicha = model.predict(input_data)[0]\n",
    "    probabilidad = max(model.predict_proba(input_data)[0])\n",
    "    print(f\"Caso {i+1}: ESI {clase_predicha} con {probabilidad*100:.2f}% de confianza\")\n"
   ]
  }
 ],
 "metadata": {
  "kernelspec": {
   "display_name": "Python 3",
   "language": "python",
   "name": "python3"
  },
  "language_info": {
   "name": "python",
   "version": "3.10"
  }
 },
 "nbformat": 4,
 "nbformat_minor": 2
}
